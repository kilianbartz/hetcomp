{
 "cells": [
  {
   "cell_type": "code",
   "execution_count": 137,
   "metadata": {},
   "outputs": [
    {
     "data": {
      "text/html": [
       "<div>\n",
       "<style scoped>\n",
       "    .dataframe tbody tr th:only-of-type {\n",
       "        vertical-align: middle;\n",
       "    }\n",
       "\n",
       "    .dataframe tbody tr th {\n",
       "        vertical-align: top;\n",
       "    }\n",
       "\n",
       "    .dataframe thead th {\n",
       "        text-align: right;\n",
       "    }\n",
       "</style>\n",
       "<table border=\"1\" class=\"dataframe\">\n",
       "  <thead>\n",
       "    <tr style=\"text-align: right;\">\n",
       "      <th></th>\n",
       "      <th>block_start</th>\n",
       "      <th>block_end</th>\n",
       "      <th>major_frequencies</th>\n",
       "    </tr>\n",
       "  </thead>\n",
       "  <tbody>\n",
       "    <tr>\n",
       "      <th>0</th>\n",
       "      <td>0</td>\n",
       "      <td>2205</td>\n",
       "      <td>[(40, 81), (440, 70), (60, 62), (4005, 61), (2...</td>\n",
       "    </tr>\n",
       "    <tr>\n",
       "      <th>1</th>\n",
       "      <td>1</td>\n",
       "      <td>2206</td>\n",
       "      <td>[(40, 81), (440, 70), (60, 62), (4005, 61), (2...</td>\n",
       "    </tr>\n",
       "    <tr>\n",
       "      <th>2</th>\n",
       "      <td>2</td>\n",
       "      <td>2207</td>\n",
       "      <td>[(40, 81), (440, 70), (60, 62), (4005, 61), (2...</td>\n",
       "    </tr>\n",
       "    <tr>\n",
       "      <th>3</th>\n",
       "      <td>3</td>\n",
       "      <td>2208</td>\n",
       "      <td>[(40, 81), (440, 70), (60, 62), (4005, 61), (2...</td>\n",
       "    </tr>\n",
       "    <tr>\n",
       "      <th>4</th>\n",
       "      <td>4</td>\n",
       "      <td>2209</td>\n",
       "      <td>[(40, 81), (440, 70), (60, 62), (4005, 61), (2...</td>\n",
       "    </tr>\n",
       "    <tr>\n",
       "      <th>...</th>\n",
       "      <td>...</td>\n",
       "      <td>...</td>\n",
       "      <td>...</td>\n",
       "    </tr>\n",
       "    <tr>\n",
       "      <th>5289790</th>\n",
       "      <td>5289790</td>\n",
       "      <td>5291995</td>\n",
       "      <td>[(40, 81), (440, 70), (60, 62), (4005, 61), (2...</td>\n",
       "    </tr>\n",
       "    <tr>\n",
       "      <th>5289791</th>\n",
       "      <td>5289791</td>\n",
       "      <td>5291996</td>\n",
       "      <td>[(40, 81), (440, 70), (60, 62), (4005, 61), (2...</td>\n",
       "    </tr>\n",
       "    <tr>\n",
       "      <th>5289792</th>\n",
       "      <td>5289792</td>\n",
       "      <td>5291997</td>\n",
       "      <td>[(40, 81), (440, 70), (60, 62), (4005, 61), (2...</td>\n",
       "    </tr>\n",
       "    <tr>\n",
       "      <th>5289793</th>\n",
       "      <td>5289793</td>\n",
       "      <td>5291998</td>\n",
       "      <td>[(40, 81), (440, 70), (60, 62), (4005, 61), (2...</td>\n",
       "    </tr>\n",
       "    <tr>\n",
       "      <th>5289794</th>\n",
       "      <td>5289794</td>\n",
       "      <td>5291999</td>\n",
       "      <td>[(40, 81), (440, 70), (60, 62), (4005, 61), (2...</td>\n",
       "    </tr>\n",
       "  </tbody>\n",
       "</table>\n",
       "<p>5289795 rows × 3 columns</p>\n",
       "</div>"
      ],
      "text/plain": [
       "         block_start  block_end  \\\n",
       "0                  0       2205   \n",
       "1                  1       2206   \n",
       "2                  2       2207   \n",
       "3                  3       2208   \n",
       "4                  4       2209   \n",
       "...              ...        ...   \n",
       "5289790      5289790    5291995   \n",
       "5289791      5289791    5291996   \n",
       "5289792      5289792    5291997   \n",
       "5289793      5289793    5291998   \n",
       "5289794      5289794    5291999   \n",
       "\n",
       "                                         major_frequencies  \n",
       "0        [(40, 81), (440, 70), (60, 62), (4005, 61), (2...  \n",
       "1        [(40, 81), (440, 70), (60, 62), (4005, 61), (2...  \n",
       "2        [(40, 81), (440, 70), (60, 62), (4005, 61), (2...  \n",
       "3        [(40, 81), (440, 70), (60, 62), (4005, 61), (2...  \n",
       "4        [(40, 81), (440, 70), (60, 62), (4005, 61), (2...  \n",
       "...                                                    ...  \n",
       "5289790  [(40, 81), (440, 70), (60, 62), (4005, 61), (2...  \n",
       "5289791  [(40, 81), (440, 70), (60, 62), (4005, 61), (2...  \n",
       "5289792  [(40, 81), (440, 70), (60, 62), (4005, 61), (2...  \n",
       "5289793  [(40, 81), (440, 70), (60, 62), (4005, 61), (2...  \n",
       "5289794  [(40, 81), (440, 70), (60, 62), (4005, 61), (2...  \n",
       "\n",
       "[5289795 rows x 3 columns]"
      ]
     },
     "execution_count": 137,
     "metadata": {},
     "output_type": "execute_result"
    }
   ],
   "source": [
    "import pandas as pd\n",
    "\n",
    "df = pd.read_csv(\"statistics.csv\", header=0)\n",
    "df"
   ]
  },
  {
   "cell_type": "code",
   "execution_count": 138,
   "metadata": {},
   "outputs": [],
   "source": [
    "def convert_string_to_list_of_tuples(s):\n",
    "    s = s.replace(\"[\", \"\").replace(\"]\", \"\").replace(\"'\", \"\")\n",
    "    tuple_splits = s.split(\"),\")\n",
    "    freqs = []\n",
    "    magns = []\n",
    "    for t in tuple_splits:\n",
    "        t = t.replace(\"(\", \"\").replace(\")\", \"\")\n",
    "        t = t.split(\",\")\n",
    "        freqs.append(int(t[0])) \n",
    "        magns.append(int(t[1]))\n",
    "    return freqs, magns"
   ]
  },
  {
   "cell_type": "code",
   "execution_count": 141,
   "metadata": {},
   "outputs": [
    {
     "data": {
      "text/plain": [
       "Text(0, 0.5, 'Magnitude (dB)')"
      ]
     },
     "execution_count": 141,
     "metadata": {},
     "output_type": "execute_result"
    },
    {
     "data": {
      "image/png": "[encoded data removed]",
      "text/plain": [
       "<Figure size 1000x500 with 1 Axes>"
      ]
     },
     "metadata": {},
     "output_type": "display_data"
    }
   ],
   "source": [
    "import matplotlib.pyplot as plt\n",
    "row = df.iloc[0]\n",
    "freqs, magns = convert_string_to_list_of_tuples(row[\"major_frequencies\"])\n",
    "np.argsort(freqs)\n",
    "freqs = [f\"{freqs[i]} Hz\" for i in np.argsort(freqs)]\n",
    "magns = [magns[i] for i in np.argsort(freqs)]\n",
    "plt.figure(figsize=(10, 5))\n",
    "plt.bar(freqs, magns)\n",
    "plt.title(\"Hauptfrequenzen im ersten Block der Audiodatei\")\n",
    "plt.xlabel(\"Frequenz\")\n",
    "plt.ylabel(\"Magnitude (dB)\")"
   ]
  }
 ],
 "metadata": {
  "kernelspec": {
   "display_name": "Python 3",
   "language": "python",
   "name": "python3"
  },
  "language_info": {
   "codemirror_mode": {
    "name": "ipython",
    "version": 3
   },
   "file_extension": ".py",
   "mimetype": "text/x-python",
   "name": "python",
   "nbconvert_exporter": "python",
   "pygments_lexer": "ipython3",
   "version": "3.11.7"
  }
 },
 "nbformat": 4,
 "nbformat_minor": 2
}
